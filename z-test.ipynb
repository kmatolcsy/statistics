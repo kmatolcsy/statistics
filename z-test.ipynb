{
 "cells": [
  {
   "cell_type": "code",
   "execution_count": 2,
   "metadata": {},
   "outputs": [],
   "source": [
    "%matplotlib inline\n",
    "import matplotlib.pyplot as plt\n",
    "import numpy as np\n",
    "import ipywidgets as widgets\n",
    "\n",
    "from scipy import stats\n",
    "from matplotlib.patches import Rectangle\n",
    "from matplotlib.collections import PatchCollection\n",
    "\n",
    "np.random.seed(5)"
   ]
  },
  {
   "cell_type": "code",
   "execution_count": 52,
   "metadata": {
    "scrolled": false
   },
   "outputs": [
    {
     "data": {
      "application/vnd.jupyter.widget-view+json": {
       "model_id": "63976ac244fb4e0c83b21e6ede018319",
       "version_major": 2,
       "version_minor": 0
      },
      "text/plain": [
       "VBox(children=(HBox(children=(Output(), Output())), HBox(children=(VBox(children=(IntSlider(value=10, descript…"
      ]
     },
     "metadata": {},
     "output_type": "display_data"
    }
   ],
   "source": [
    "# true parameters\n",
    "mu = 75\n",
    "sigma = 10\n",
    "\n",
    "sigma_range = 5\n",
    "sigma = widgets.IntSlider(value=sigma, min=sigma-sigma_range, max=sigma+sigma_range, description=r'$\\sigma$')\n",
    "\n",
    "# sample\n",
    "sample_size = widgets.IntSlider(value=1000, min=100, max=2000, step=100, description=r'$n$')\n",
    "\n",
    "sample = np.random.normal(mu, sigma.value, sample_size.value)\n",
    "sample_mean = sample.mean()\n",
    "\n",
    "# hypothesis\n",
    "alpha = widgets.FloatSlider(value=0.05, min=0.01, max=0.1, step=0.01, description=r'$\\alpha$')\n",
    "mu_null = widgets.IntSlider(value=76, min=mu-5, max=mu+5, description=r'$\\mu_0$')\n",
    "\n",
    "# z-score\n",
    "def z_score(sigma, sample_size, mu_null):\n",
    "    global sample_mean\n",
    "    return np.sqrt(sample_size) * (sample_mean - mu_null) / sigma\n",
    "\n",
    "# power of z-test\n",
    "def power(sigma, sample_size, mu_null, alpha):\n",
    "    global mu\n",
    "    shift = np.sqrt(sample_size) * (mu - mu_null) / sigma \n",
    "    quantile = stats.norm.ppf(1-alpha/2)\n",
    "    return 1 - (stats.norm.cdf(quantile-shift) - stats.norm.cdf(-quantile-shift))\n",
    "\n",
    "def print_score(sigma, sample_size, mu_null):\n",
    "    print(f'z-score: {z_score(sigma, sample_size, mu_null)}')\n",
    "    \n",
    "def plot_score(sigma, sample_size, mu_null, alpha):\n",
    "    fig = plt.figure()\n",
    "    ax = fig.add_subplot(1, 1, 1, title='Critical region')\n",
    "    \n",
    "    # bell curve\n",
    "    x = np.linspace(-6, 6, 70) \n",
    "    ax.plot(x, stats.norm.pdf(x), color='blue')\n",
    "    \n",
    "    # z-score\n",
    "    score = z_score(sigma, sample_size, mu_null)\n",
    "    if -6 < score < 6:\n",
    "        ax.plot(score, 0, 'o', color='cyan')\n",
    "    \n",
    "    # critical region edges\n",
    "    quantile = -stats.norm.ppf(alpha/2)\n",
    "    ax.axvline(-quantile, color='red', alpha=0.5)\n",
    "    ax.axvline(quantile, color='red', alpha=0.5)\n",
    "    \n",
    "    # critical region areas \n",
    "    width = -quantile + 7\n",
    "    left = Rectangle((-7, -1), width, 2)\n",
    "    right = Rectangle((quantile, -1), width, 2)\n",
    "    ax.add_collection(PatchCollection([left, right], color='red', alpha=0.08))\n",
    "    \n",
    "    return fig\n",
    "\n",
    "def plot_power(sigma, sample_size, mu_null, alpha):\n",
    "    global mu\n",
    "\n",
    "    fig = plt.figure()\n",
    "    ax = fig.add_subplot(1, 1, 1, title='Power analysis')\n",
    "    \n",
    "    scale = sigma / np.sqrt(sample_size)\n",
    "    \n",
    "    # true\n",
    "    x = np.linspace(mu-6*scale, mu+6*scale, 70) \n",
    "    ax.plot(x, stats.norm.pdf(x, loc=mu, scale=scale), color='green')\n",
    "    \n",
    "    # hypo\n",
    "    ax.plot(x, stats.norm.pdf(x, loc=mu_null, scale=scale), color='blue')\n",
    "    \n",
    "    # critical region\n",
    "    scaled_ppf = stats.norm.ppf(alpha/2) * scale\n",
    "    if mu-6*scale < mu_null-scaled_ppf < mu+6*scale:\n",
    "        ax.axvline(mu_null-scaled_ppf, color='red', alpha=0.5)\n",
    "    if mu-6*scale < mu_null+scaled_ppf < mu+6*scale:\n",
    "        ax.axvline(mu_null+scaled_ppf, color='red', alpha=0.5)\n",
    "    \n",
    "    return fig\n",
    "\n",
    "def print_probs(sigma, sample_size, mu_null, alpha):\n",
    "    beta = np.round(1-power(sigma, sample_size, mu_null, alpha), 2)\n",
    "    print(f'{\"H null\"} {True} {False}\\n{\"accept\"} {1-alpha} {beta} \\n{\"reject\"} {alpha} {1-beta} \\n')\n",
    "\n",
    "# outputs\n",
    "output_score = widgets.interactive_output(plot_score, {'sigma': sigma, 'sample_size': sample_size, 'mu_null': mu_null, 'alpha': alpha})\n",
    "output_power = widgets.interactive_output(plot_power, {'sigma': sigma, 'sample_size': sample_size, 'mu_null': mu_null, 'alpha': alpha})\n",
    "output_probs = widgets.interactive_output(print_probs, {'sigma': sigma, 'sample_size': sample_size, 'mu_null': mu_null, 'alpha': alpha})\n",
    "\n",
    "# layout\n",
    "widgets.VBox([\n",
    "    widgets.HBox([\n",
    "        output_score, \n",
    "        output_power\n",
    "    ]),\n",
    "    widgets.HBox([\n",
    "        widgets.VBox([sigma, sample_size, alpha, mu_null]), \n",
    "        widgets.VBox([widgets.Label('Conditional probabilty matrix'), output_probs])\n",
    "    ])\n",
    "])"
   ]
  },
  {
   "cell_type": "code",
   "execution_count": null,
   "metadata": {},
   "outputs": [],
   "source": []
  }
 ],
 "metadata": {
  "kernelspec": {
   "display_name": "Python 3",
   "language": "python",
   "name": "python3"
  },
  "language_info": {
   "codemirror_mode": {
    "name": "ipython",
    "version": 3
   },
   "file_extension": ".py",
   "mimetype": "text/x-python",
   "name": "python",
   "nbconvert_exporter": "python",
   "pygments_lexer": "ipython3",
   "version": "3.7.1"
  }
 },
 "nbformat": 4,
 "nbformat_minor": 2
}
