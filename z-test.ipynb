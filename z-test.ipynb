{
 "cells": [
  {
   "cell_type": "code",
   "execution_count": 1,
   "metadata": {},
   "outputs": [],
   "source": [
    "%matplotlib inline\n",
    "import matplotlib.pyplot as plt\n",
    "import numpy as np\n",
    "import ipywidgets as widgets\n",
    "\n",
    "from scipy import stats\n",
    "from matplotlib.patches import Rectangle\n",
    "from matplotlib.collections import PatchCollection\n",
    "\n",
    "np.random.seed(5)"
   ]
  },
  {
   "cell_type": "code",
   "execution_count": 2,
   "metadata": {
    "scrolled": false
   },
   "outputs": [
    {
     "data": {
      "application/vnd.jupyter.widget-view+json": {
       "model_id": "a71af1b8e49846f182618f242f9a23b7",
       "version_major": 2,
       "version_minor": 0
      },
      "text/plain": [
       "VBox(children=(HBox(children=(Output(), Output())), HBox(children=(VBox(children=(IntSlider(value=10, descript…"
      ]
     },
     "metadata": {},
     "output_type": "display_data"
    }
   ],
   "source": [
    "# true parameters\n",
    "mu = 75\n",
    "sigma = 10\n",
    "\n",
    "sigma_range = 5\n",
    "sigma = widgets.IntSlider(value=sigma, min=sigma-sigma_range, max=sigma+sigma_range, description=r'$\\sigma$')\n",
    "\n",
    "# sample\n",
    "sample_size = widgets.IntSlider(value=1000, min=100, max=2000, step=100, description=r'$n$')\n",
    "\n",
    "sample = np.random.normal(mu, sigma.value, sample_size.value)\n",
    "sample_mean = sample.mean()\n",
    "\n",
    "# hypothesis\n",
    "alpha = widgets.FloatSlider(value=0.05, min=0.01, max=0.1, step=0.01, description=r'$\\alpha$')\n",
    "mu_null = widgets.IntSlider(value=76, min=mu-5, max=mu+5, description=r'$\\mu_0$')\n",
    "\n",
    "# z-score\n",
    "def z_score(sigma, sample_size, mu_null):\n",
    "    global sample_mean\n",
    "    return np.sqrt(sample_size) * (sample_mean - mu_null) / sigma\n",
    "\n",
    "# power of z-test\n",
    "def power(sigma, sample_size, mu_null, alpha):\n",
    "    global mu\n",
    "    shift = np.sqrt(sample_size) * (mu - mu_null) / sigma \n",
    "    quantile = stats.norm.ppf(1-alpha/2)\n",
    "    return 1 - (stats.norm.cdf(quantile-shift) - stats.norm.cdf(-quantile-shift))\n",
    "\n",
    "def print_score(sigma, sample_size, mu_null):\n",
    "    print(f'z-score: {z_score(sigma, sample_size, mu_null)}')\n",
    "    \n",
    "def plot_score(sigma, sample_size, mu_null, alpha):\n",
    "    fig = plt.figure()\n",
    "    ax = fig.add_subplot(1, 1, 1, title='Critical region')\n",
    "    \n",
    "    # bell curve\n",
    "    x = np.linspace(-6, 6, 70) \n",
    "    ax.plot(x, stats.norm.pdf(x), color='blue')\n",
    "    \n",
    "    # z-score\n",
    "    score = z_score(sigma, sample_size, mu_null)\n",
    "    if -6 < score < 6:\n",
    "        ax.plot(score, 0, 'o', color='cyan')\n",
    "    \n",
    "    # critical region edges\n",
    "    quantile = -stats.norm.ppf(alpha/2)\n",
    "    ax.axvline(-quantile, color='red', alpha=0.5)\n",
    "    ax.axvline(quantile, color='red', alpha=0.5)\n",
    "    \n",
    "    # critical region areas \n",
    "    width = -quantile + 7\n",
    "    left = Rectangle((-7, -1), width, 2)\n",
    "    right = Rectangle((quantile, -1), width, 2)\n",
    "    ax.add_collection(PatchCollection([left, right], color='red', alpha=0.08))\n",
    "    \n",
    "    return fig\n",
    "\n",
    "def plot_power(sigma, sample_size, mu_null, alpha):\n",
    "    global mu\n",
    "\n",
    "    fig = plt.figure()\n",
    "    ax = fig.add_subplot(1, 1, 1, title='Power analysis')\n",
    "    \n",
    "    scale = sigma / np.sqrt(sample_size)\n",
    "    \n",
    "    # true\n",
    "    x = np.linspace(mu-6*scale, mu+6*scale, 70) \n",
    "    ax.plot(x, stats.norm.pdf(x, loc=mu, scale=scale), color='green')\n",
    "    \n",
    "    # hypo\n",
    "    ax.plot(x, stats.norm.pdf(x, loc=mu_null, scale=scale), color='blue')\n",
    "    \n",
    "    # critical region\n",
    "    scaled_ppf = stats.norm.ppf(alpha/2) * scale\n",
    "    if mu-6*scale < mu_null-scaled_ppf < mu+6*scale:\n",
    "        ax.axvline(mu_null-scaled_ppf, color='red', alpha=0.5)\n",
    "    if mu-6*scale < mu_null+scaled_ppf < mu+6*scale:\n",
    "        ax.axvline(mu_null+scaled_ppf, color='red', alpha=0.5)\n",
    "    \n",
    "    return fig\n",
    "\n",
    "def print_probs(sigma, sample_size, mu_null, alpha):\n",
    "    beta = np.round(1-power(sigma, sample_size, mu_null, alpha), 2)\n",
    "    print(f'{\"H null\"} {True} {False}\\n{\"accept\"} {1-alpha} {beta} \\n{\"reject\"} {alpha} {1-beta} \\n')\n",
    "\n",
    "# outputs\n",
    "output_score = widgets.interactive_output(plot_score, {'sigma': sigma, 'sample_size': sample_size, 'mu_null': mu_null, 'alpha': alpha})\n",
    "output_power = widgets.interactive_output(plot_power, {'sigma': sigma, 'sample_size': sample_size, 'mu_null': mu_null, 'alpha': alpha})\n",
    "output_probs = widgets.interactive_output(print_probs, {'sigma': sigma, 'sample_size': sample_size, 'mu_null': mu_null, 'alpha': alpha})\n",
    "\n",
    "# layout\n",
    "widgets.VBox([\n",
    "    widgets.HBox([\n",
    "        output_score, \n",
    "        output_power\n",
    "    ]),\n",
    "    widgets.HBox([\n",
    "        widgets.VBox([sigma, sample_size, alpha, mu_null]), \n",
    "        widgets.VBox([widgets.Label('Conditional probabilty matrix'), output_probs])\n",
    "    ])\n",
    "])"
   ]
  }
 ],
 "metadata": {
  "kernelspec": {
   "display_name": "Python 3",
   "language": "python",
   "name": "python3"
  },
  "language_info": {
   "codemirror_mode": {
    "name": "ipython",
    "version": 3
   },
   "file_extension": ".py",
   "mimetype": "text/x-python",
   "name": "python",
   "nbconvert_exporter": "python",
   "pygments_lexer": "ipython3",
   "version": "3.7.1"
  },
  "widgets": {
   "application/vnd.jupyter.widget-state+json": {
    "state": {
     "04c546c31da84b6d8e7e3417ee91bf77": {
      "model_module": "@jupyter-widgets/controls",
      "model_module_version": "1.4.0",
      "model_name": "HBoxModel",
      "state": {
       "children": [
        "IPY_MODEL_fb8ab96ac046497e864ec7d5f11166b6",
        "IPY_MODEL_aeb595f0b458491ebdbdd70fb0553916"
       ],
       "layout": "IPY_MODEL_d8e7bbffde954830b7e5219a1ab0e98a"
      }
     },
     "1d9604421c024edcabdee9acbaee5fc1": {
      "model_module": "@jupyter-widgets/controls",
      "model_module_version": "1.4.0",
      "model_name": "SliderStyleModel",
      "state": {
       "description_width": ""
      }
     },
     "227b1c4bb77042009179c27b1448d6b7": {
      "model_module": "@jupyter-widgets/base",
      "model_module_version": "1.1.0",
      "model_name": "LayoutModel",
      "state": {}
     },
     "238cbdc12ef14b91901bdcaa4d0c0538": {
      "model_module": "@jupyter-widgets/controls",
      "model_module_version": "1.4.0",
      "model_name": "VBoxModel",
      "state": {
       "children": [
        "IPY_MODEL_b48349daf1054e35be88f424b4d456d5",
        "IPY_MODEL_debe391133924ecdb402fd32a42fccee"
       ],
       "layout": "IPY_MODEL_f2a80c9b055b4df9b77888682e98bafd"
      }
     },
     "24bc217089b04b1d8b94975dbdd9935c": {
      "model_module": "@jupyter-widgets/base",
      "model_module_version": "1.1.0",
      "model_name": "LayoutModel",
      "state": {}
     },
     "26ae0e00bed2400da51995d400ad539f": {
      "model_module": "@jupyter-widgets/base",
      "model_module_version": "1.1.0",
      "model_name": "LayoutModel",
      "state": {}
     },
     "2b0a99525c844c3db9e5261698be1ec2": {
      "model_module": "@jupyter-widgets/controls",
      "model_module_version": "1.4.0",
      "model_name": "SliderStyleModel",
      "state": {
       "description_width": ""
      }
     },
     "3f90fa9abc73405e9752db55bbea09e8": {
      "model_module": "@jupyter-widgets/base",
      "model_module_version": "1.1.0",
      "model_name": "LayoutModel",
      "state": {}
     },
     "4395a1b53c1140dda4b38bfd7d4b4ac1": {
      "model_module": "@jupyter-widgets/controls",
      "model_module_version": "1.4.0",
      "model_name": "IntSliderModel",
      "state": {
       "description": "$n$",
       "layout": "IPY_MODEL_d2d934e498194bc2adca8ee8c23baa5b",
       "max": 2000,
       "min": 100,
       "step": 100,
       "style": "IPY_MODEL_67047b99ed764a11b3b429ffdd54cbfc",
       "value": 1000
      }
     },
     "4a46f0109c9e4fb5acf95c384887b563": {
      "model_module": "@jupyter-widgets/controls",
      "model_module_version": "1.4.0",
      "model_name": "SliderStyleModel",
      "state": {
       "description_width": ""
      }
     },
     "512fc40e1f244aef85908f4017134844": {
      "model_module": "@jupyter-widgets/controls",
      "model_module_version": "1.4.0",
      "model_name": "FloatSliderModel",
      "state": {
       "description": "$\\alpha$",
       "layout": "IPY_MODEL_8f5288c2b46242c18bb350e1f7d7370d",
       "max": 0.1,
       "min": 0.01,
       "step": 0.01,
       "style": "IPY_MODEL_1d9604421c024edcabdee9acbaee5fc1",
       "value": 0.05
      }
     },
     "5c3a516fc012422a911c8997bf8dadb9": {
      "model_module": "@jupyter-widgets/base",
      "model_module_version": "1.1.0",
      "model_name": "LayoutModel",
      "state": {}
     },
     "5f5f969f25ab4df095f1d9e8d3adbc46": {
      "model_module": "@jupyter-widgets/controls",
      "model_module_version": "1.4.0",
      "model_name": "IntSliderModel",
      "state": {
       "description": "$\\sigma$",
       "layout": "IPY_MODEL_9b476cede06a430e874f5f6ca86fe940",
       "max": 15,
       "min": 5,
       "style": "IPY_MODEL_4a46f0109c9e4fb5acf95c384887b563",
       "value": 10
      }
     },
     "67047b99ed764a11b3b429ffdd54cbfc": {
      "model_module": "@jupyter-widgets/controls",
      "model_module_version": "1.4.0",
      "model_name": "SliderStyleModel",
      "state": {
       "description_width": ""
      }
     },
     "7312026dc6a04ae58407d6ded574ba2e": {
      "model_module": "@jupyter-widgets/controls",
      "model_module_version": "1.4.0",
      "model_name": "IntSliderModel",
      "state": {
       "description": "$\\mu_0$",
       "layout": "IPY_MODEL_b4d7d8e00ad74300b6a0cf21e40fb943",
       "max": 80,
       "min": 70,
       "style": "IPY_MODEL_2b0a99525c844c3db9e5261698be1ec2",
       "value": 76
      }
     },
     "79851e2927774c07be9b8fc8321c9c73": {
      "model_module": "@jupyter-widgets/controls",
      "model_module_version": "1.4.0",
      "model_name": "DescriptionStyleModel",
      "state": {
       "description_width": ""
      }
     },
     "8f5288c2b46242c18bb350e1f7d7370d": {
      "model_module": "@jupyter-widgets/base",
      "model_module_version": "1.1.0",
      "model_name": "LayoutModel",
      "state": {}
     },
     "9b476cede06a430e874f5f6ca86fe940": {
      "model_module": "@jupyter-widgets/base",
      "model_module_version": "1.1.0",
      "model_name": "LayoutModel",
      "state": {}
     },
     "a71af1b8e49846f182618f242f9a23b7": {
      "model_module": "@jupyter-widgets/controls",
      "model_module_version": "1.4.0",
      "model_name": "VBoxModel",
      "state": {
       "children": [
        "IPY_MODEL_04c546c31da84b6d8e7e3417ee91bf77",
        "IPY_MODEL_ecfb2a7d19a24991b59bae30cfb13214"
       ],
       "layout": "IPY_MODEL_227b1c4bb77042009179c27b1448d6b7"
      }
     },
     "a984bb964df94959b2ac8e2739d5d6a0": {
      "model_module": "@jupyter-widgets/base",
      "model_module_version": "1.1.0",
      "model_name": "LayoutModel",
      "state": {}
     },
     "aeb595f0b458491ebdbdd70fb0553916": {
      "model_module": "@jupyter-widgets/output",
      "model_module_version": "1.0.0",
      "model_name": "OutputModel",
      "state": {
       "layout": "IPY_MODEL_3f90fa9abc73405e9752db55bbea09e8",
       "outputs": [
        {
         "data": {
          "image/png": "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\n",
          "text/plain": "<Figure size 432x288 with 1 Axes>"
         },
         "metadata": {
          "needs_background": "light"
         },
         "output_type": "display_data"
        }
       ]
      }
     },
     "af266690c7374dbc9dd5fbb370f03c66": {
      "model_module": "@jupyter-widgets/controls",
      "model_module_version": "1.4.0",
      "model_name": "VBoxModel",
      "state": {
       "children": [
        "IPY_MODEL_5f5f969f25ab4df095f1d9e8d3adbc46",
        "IPY_MODEL_4395a1b53c1140dda4b38bfd7d4b4ac1",
        "IPY_MODEL_512fc40e1f244aef85908f4017134844",
        "IPY_MODEL_7312026dc6a04ae58407d6ded574ba2e"
       ],
       "layout": "IPY_MODEL_24bc217089b04b1d8b94975dbdd9935c"
      }
     },
     "b48349daf1054e35be88f424b4d456d5": {
      "model_module": "@jupyter-widgets/controls",
      "model_module_version": "1.4.0",
      "model_name": "LabelModel",
      "state": {
       "layout": "IPY_MODEL_26ae0e00bed2400da51995d400ad539f",
       "style": "IPY_MODEL_79851e2927774c07be9b8fc8321c9c73",
       "value": "Conditional probabilty matrix"
      }
     },
     "b4d7d8e00ad74300b6a0cf21e40fb943": {
      "model_module": "@jupyter-widgets/base",
      "model_module_version": "1.1.0",
      "model_name": "LayoutModel",
      "state": {}
     },
     "cd41297847a940df8af488900c87736e": {
      "model_module": "@jupyter-widgets/base",
      "model_module_version": "1.1.0",
      "model_name": "LayoutModel",
      "state": {}
     },
     "d2d934e498194bc2adca8ee8c23baa5b": {
      "model_module": "@jupyter-widgets/base",
      "model_module_version": "1.1.0",
      "model_name": "LayoutModel",
      "state": {}
     },
     "d8e7bbffde954830b7e5219a1ab0e98a": {
      "model_module": "@jupyter-widgets/base",
      "model_module_version": "1.1.0",
      "model_name": "LayoutModel",
      "state": {}
     },
     "debe391133924ecdb402fd32a42fccee": {
      "model_module": "@jupyter-widgets/output",
      "model_module_version": "1.0.0",
      "model_name": "OutputModel",
      "state": {
       "layout": "IPY_MODEL_cd41297847a940df8af488900c87736e",
       "outputs": [
        {
         "name": "stdout",
         "output_type": "stream",
         "text": "H null True False\naccept 0.95 0.11 \nreject 0.05 0.89 \n\n"
        }
       ]
      }
     },
     "ecfb2a7d19a24991b59bae30cfb13214": {
      "model_module": "@jupyter-widgets/controls",
      "model_module_version": "1.4.0",
      "model_name": "HBoxModel",
      "state": {
       "children": [
        "IPY_MODEL_af266690c7374dbc9dd5fbb370f03c66",
        "IPY_MODEL_238cbdc12ef14b91901bdcaa4d0c0538"
       ],
       "layout": "IPY_MODEL_5c3a516fc012422a911c8997bf8dadb9"
      }
     },
     "f2a80c9b055b4df9b77888682e98bafd": {
      "model_module": "@jupyter-widgets/base",
      "model_module_version": "1.1.0",
      "model_name": "LayoutModel",
      "state": {}
     },
     "fb8ab96ac046497e864ec7d5f11166b6": {
      "model_module": "@jupyter-widgets/output",
      "model_module_version": "1.0.0",
      "model_name": "OutputModel",
      "state": {
       "layout": "IPY_MODEL_a984bb964df94959b2ac8e2739d5d6a0",
       "outputs": [
        {
         "data": {
          "image/png": "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\n",
          "text/plain": "<Figure size 432x288 with 1 Axes>"
         },
         "metadata": {
          "needs_background": "light"
         },
         "output_type": "display_data"
        }
       ]
      }
     }
    },
    "version_major": 2,
    "version_minor": 0
   }
  }
 },
 "nbformat": 4,
 "nbformat_minor": 2
}
